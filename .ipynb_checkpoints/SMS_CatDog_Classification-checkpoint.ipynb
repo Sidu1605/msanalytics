{
 "cells": [
  {
   "cell_type": "code",
   "execution_count": 1,
   "metadata": {
    "colab": {
     "base_uri": "https://localhost:8080/"
    },
    "id": "9im107V0vcH5",
    "outputId": "a96f9ed2-2d7e-44ba-8636-5975b8c3be57"
   },
   "outputs": [
    {
     "name": "stdout",
     "output_type": "stream",
     "text": [
      "Mounted at /content/drive\n"
     ]
    }
   ],
   "source": [
    "from google.colab import drive\n",
    "drive.mount('/content/drive')"
   ]
  },
  {
   "cell_type": "code",
   "execution_count": 2,
   "metadata": {
    "id": "t2zAZiSVvNkW"
   },
   "outputs": [],
   "source": [
    "import tensorflow as tf\n",
    "\n",
    "from tensorflow import keras"
   ]
  },
  {
   "cell_type": "code",
   "execution_count": 3,
   "metadata": {
    "id": "Za_9beEFvNka"
   },
   "outputs": [],
   "source": [
    "import warnings\n",
    "\n",
    "warnings.filterwarnings('ignore')"
   ]
  },
  {
   "cell_type": "markdown",
   "metadata": {
    "id": "vzFjYI4DvNkc"
   },
   "source": [
    "## Create the Convolutional Neural Network"
   ]
  },
  {
   "cell_type": "code",
   "execution_count": 39,
   "metadata": {
    "id": "IA-ZhsVTEWCs"
   },
   "outputs": [],
   "source": [
    "# Initialising the CNN\n",
    "cnn = tf.keras.models.Sequential()\n",
    "\n",
    "# Step 1 - Convolution\n",
    "cnn.add(tf.keras.layers.Conv2D(filters=32,padding=\"same\",kernel_size=3, activation='relu', input_shape=[64, 64, 3]))\n",
    "\n",
    "# Step 2 - Pooling\n",
    "cnn.add(tf.keras.layers.MaxPool2D(pool_size=2, strides=2))\n",
    "\n",
    "# Adding a second convolutional layer\n",
    "cnn.add(tf.keras.layers.Conv2D(filters=32,padding='same',kernel_size=3, activation='relu'))\n",
    "cnn.add(tf.keras.layers.MaxPool2D(pool_size=2, strides=2))\n",
    "\n",
    "# Step 3 - Flattening\n",
    "cnn.add(tf.keras.layers.Flatten())\n",
    "\n",
    "# Step 4 - Full Connection\n",
    "cnn.add(tf.keras.layers.Dense(units=128, activation='relu'))\n",
    "\n",
    "# Step 5 - Output Layer\n",
    "cnn.add(tf.keras.layers.Dense(units=1, activation='sigmoid'))"
   ]
  },
  {
   "cell_type": "code",
   "execution_count": 40,
   "metadata": {
    "colab": {
     "base_uri": "https://localhost:8080/"
    },
    "id": "jlajgejOEWKr",
    "outputId": "b2d410f1-1264-45b1-9bd6-ce761733cdd7"
   },
   "outputs": [
    {
     "name": "stdout",
     "output_type": "stream",
     "text": [
      "Model: \"sequential_1\"\n",
      "_________________________________________________________________\n",
      "Layer (type)                 Output Shape              Param #   \n",
      "=================================================================\n",
      "conv2d (Conv2D)              (None, 64, 64, 32)        896       \n",
      "_________________________________________________________________\n",
      "max_pooling2d (MaxPooling2D) (None, 32, 32, 32)        0         \n",
      "_________________________________________________________________\n",
      "conv2d_1 (Conv2D)            (None, 32, 32, 32)        9248      \n",
      "_________________________________________________________________\n",
      "max_pooling2d_1 (MaxPooling2 (None, 16, 16, 32)        0         \n",
      "_________________________________________________________________\n",
      "flatten_1 (Flatten)          (None, 8192)              0         \n",
      "_________________________________________________________________\n",
      "dense_2 (Dense)              (None, 128)               1048704   \n",
      "_________________________________________________________________\n",
      "dense_3 (Dense)              (None, 1)                 129       \n",
      "=================================================================\n",
      "Total params: 1,058,977\n",
      "Trainable params: 1,058,977\n",
      "Non-trainable params: 0\n",
      "_________________________________________________________________\n"
     ]
    }
   ],
   "source": [
    "\n",
    "cnn.summary()"
   ]
  },
  {
   "cell_type": "markdown",
   "metadata": {
    "id": "cFbjiRT2vNk2"
   },
   "source": [
    "# Image Augmentation"
   ]
  },
  {
   "cell_type": "code",
   "execution_count": 8,
   "metadata": {
    "id": "vnVC7sMVvNk6"
   },
   "outputs": [],
   "source": [
    "from keras.preprocessing.image import ImageDataGenerator"
   ]
  },
  {
   "cell_type": "code",
   "execution_count": 9,
   "metadata": {
    "id": "gZyfKX-NvNk8"
   },
   "outputs": [],
   "source": [
    "train_datagen = ImageDataGenerator(\n",
    "        rescale=1./255,\n",
    "        shear_range=0.2,\n",
    "        zoom_range=0.2,\n",
    "        horizontal_flip=True)"
   ]
  },
  {
   "cell_type": "code",
   "execution_count": 10,
   "metadata": {
    "id": "kB3wq0YbvNk9"
   },
   "outputs": [],
   "source": [
    "test_datagen = ImageDataGenerator(rescale=1./255)\n"
   ]
  },
  {
   "cell_type": "markdown",
   "metadata": {
    "id": "dHvUDw16vNk_"
   },
   "source": [
    "### Set the Directory"
   ]
  },
  {
   "cell_type": "markdown",
   "metadata": {
    "id": "kAzn1gE7vNlC"
   },
   "source": [
    "#### \"YOUR FILE PATH\" is the local path of your machine where you have set up your folders for training and test sets."
   ]
  },
  {
   "cell_type": "code",
   "execution_count": 35,
   "metadata": {
    "colab": {
     "base_uri": "https://localhost:8080/"
    },
    "id": "J7ASStV8vNlD",
    "outputId": "9c3d7358-604b-4900-af73-2d6b61bd5949"
   },
   "outputs": [
    {
     "name": "stdout",
     "output_type": "stream",
     "text": [
      "Found 8005 images belonging to 2 classes.\n"
     ]
    }
   ],
   "source": [
    "train_set = train_datagen.flow_from_directory (\n",
    "    '/content/drive/MyDrive/Colab Notebooks/Cat and dogs classification/C & D data/archive.zip (Unzipped Files)/training_set/training_set',\\\n",
    "    target_size=(64, 64),\\\n",
    "    batch_size=32,\\\n",
    "    class_mode='binary')"
   ]
  },
  {
   "cell_type": "code",
   "execution_count": 36,
   "metadata": {
    "colab": {
     "base_uri": "https://localhost:8080/"
    },
    "id": "Dv_QWdyMvNlF",
    "outputId": "df5bb4a8-35d6-40b5-f88b-e9277175e814"
   },
   "outputs": [
    {
     "name": "stdout",
     "output_type": "stream",
     "text": [
      "Found 2023 images belonging to 2 classes.\n"
     ]
    }
   ],
   "source": [
    "test_set = test_datagen.flow_from_directory(\n",
    "    '/content/drive/MyDrive/Colab Notebooks/Cat and dogs classification/C & D data/archive.zip (Unzipped Files)/test_set/test_set',\\\n",
    "        target_size=(64, 64),\\\n",
    "        batch_size=32,\\\n",
    "        class_mode='binary')"
   ]
  },
  {
   "cell_type": "code",
   "execution_count": 37,
   "metadata": {
    "id": "WR0NJ-YEwSN7"
   },
   "outputs": [],
   "source": [
    "train_size = 8005\n",
    "test_size = 2023\n",
    "batch_size = 32"
   ]
  },
  {
   "cell_type": "code",
   "execution_count": 14,
   "metadata": {
    "colab": {
     "base_uri": "https://localhost:8080/"
    },
    "id": "UL2vFoL1xhL6",
    "outputId": "195e9d56-0c3c-4374-a29d-e8c7ce213550"
   },
   "outputs": [
    {
     "data": {
      "text/plain": [
       "{'cats': 0, 'dogs': 1}"
      ]
     },
     "execution_count": 14,
     "metadata": {
      "tags": []
     },
     "output_type": "execute_result"
    }
   ],
   "source": [
    "\n",
    "train_set.class_indices"
   ]
  },
  {
   "cell_type": "code",
   "execution_count": 38,
   "metadata": {
    "colab": {
     "base_uri": "https://localhost:8080/"
    },
    "id": "3DxrPRZ2xkcv",
    "outputId": "2c280e37-97c5-458d-cac0-8609c2d6ae28"
   },
   "outputs": [
    {
     "data": {
      "text/plain": [
       "{'cats': 0, 'dogs': 1}"
      ]
     },
     "execution_count": 38,
     "metadata": {
      "tags": []
     },
     "output_type": "execute_result"
    }
   ],
   "source": [
    "test_set.class_indices"
   ]
  },
  {
   "cell_type": "markdown",
   "metadata": {
    "id": "8xZn6whbvNlG"
   },
   "source": [
    "## Fit the Model"
   ]
  },
  {
   "cell_type": "markdown",
   "metadata": {
    "id": "98APSURtvNlH"
   },
   "source": [
    "\n",
    "\n",
    "### steps_per_epoch = Total Number of images in the training set/train_size\n",
    "### validation_steps = Total number of Images in the test set/test_size"
   ]
  },
  {
   "cell_type": "code",
   "execution_count": 42,
   "metadata": {
    "colab": {
     "base_uri": "https://localhost:8080/"
    },
    "id": "nAJLvb4JvNlI",
    "outputId": "4eb62b52-71da-4ac2-f832-7d170fae9b43"
   },
   "outputs": [
    {
     "name": "stdout",
     "output_type": "stream",
     "text": [
      "Epoch 1/15\n",
      "251/251 [==============================] - 89s 352ms/step - loss: 0.6032 - accuracy: 0.6634 - val_loss: 0.5402 - val_accuracy: 0.7296\n",
      "Epoch 2/15\n",
      "251/251 [==============================] - 88s 350ms/step - loss: 0.5528 - accuracy: 0.7132 - val_loss: 0.5536 - val_accuracy: 0.7163\n",
      "Epoch 3/15\n",
      "251/251 [==============================] - 89s 356ms/step - loss: 0.5448 - accuracy: 0.7224 - val_loss: 0.4977 - val_accuracy: 0.7588\n",
      "Epoch 4/15\n",
      "251/251 [==============================] - 89s 353ms/step - loss: 0.4888 - accuracy: 0.7596 - val_loss: 0.5162 - val_accuracy: 0.7573\n",
      "Epoch 5/15\n",
      "251/251 [==============================] - 88s 351ms/step - loss: 0.4686 - accuracy: 0.7740 - val_loss: 0.4751 - val_accuracy: 0.7904\n",
      "Epoch 6/15\n",
      "251/251 [==============================] - 87s 346ms/step - loss: 0.4570 - accuracy: 0.7845 - val_loss: 0.4828 - val_accuracy: 0.7627\n",
      "Epoch 7/15\n",
      "251/251 [==============================] - 87s 346ms/step - loss: 0.4259 - accuracy: 0.8030 - val_loss: 0.4676 - val_accuracy: 0.7884\n",
      "Epoch 8/15\n",
      "251/251 [==============================] - 88s 349ms/step - loss: 0.4266 - accuracy: 0.8059 - val_loss: 0.4633 - val_accuracy: 0.7889\n",
      "Epoch 9/15\n",
      "251/251 [==============================] - 87s 347ms/step - loss: 0.4166 - accuracy: 0.8008 - val_loss: 0.4518 - val_accuracy: 0.7909\n",
      "Epoch 10/15\n",
      "251/251 [==============================] - 87s 348ms/step - loss: 0.4229 - accuracy: 0.7984 - val_loss: 0.4553 - val_accuracy: 0.7954\n",
      "Epoch 11/15\n",
      "251/251 [==============================] - 88s 350ms/step - loss: 0.3757 - accuracy: 0.8299 - val_loss: 0.5341 - val_accuracy: 0.7617\n",
      "Epoch 12/15\n",
      "251/251 [==============================] - 88s 351ms/step - loss: 0.3801 - accuracy: 0.8344 - val_loss: 0.4732 - val_accuracy: 0.7790\n",
      "Epoch 13/15\n",
      "251/251 [==============================] - 87s 347ms/step - loss: 0.3681 - accuracy: 0.8399 - val_loss: 0.4504 - val_accuracy: 0.8057\n",
      "Epoch 14/15\n",
      "251/251 [==============================] - 86s 344ms/step - loss: 0.3510 - accuracy: 0.8455 - val_loss: 0.4560 - val_accuracy: 0.8023\n",
      "Epoch 15/15\n",
      "251/251 [==============================] - 88s 350ms/step - loss: 0.3323 - accuracy: 0.8562 - val_loss: 0.4476 - val_accuracy: 0.8023\n"
     ]
    },
    {
     "data": {
      "text/plain": [
       "<tensorflow.python.keras.callbacks.History at 0x7f6e921d2350>"
      ]
     },
     "execution_count": 42,
     "metadata": {
      "tags": []
     },
     "output_type": "execute_result"
    }
   ],
   "source": [
    "# Compiling the CNN\n",
    "cnn.compile(optimizer = 'adam', loss = 'binary_crossentropy', metrics = ['accuracy'])\n",
    "\n",
    "# Training the CNN on the Training set and evaluating it on the Test set\n",
    "cnn.fit(x = train_set, validation_data = test_set, epochs = 15)"
   ]
  },
  {
   "cell_type": "markdown",
   "metadata": {
    "id": "zBUOuPBVvNlJ"
   },
   "source": [
    "## Predicting a New Image"
   ]
  },
  {
   "cell_type": "code",
   "execution_count": 43,
   "metadata": {
    "id": "V7dN1qSLvNlK"
   },
   "outputs": [],
   "source": [
    "import numpy as np\n",
    "from keras.preprocessing import image\n"
   ]
  },
  {
   "cell_type": "markdown",
   "metadata": {
    "id": "8mkVRKfnvNlM"
   },
   "source": [
    "#### Target size is 64x64 as out CNN inputs the image size as 64x64"
   ]
  },
  {
   "cell_type": "code",
   "execution_count": 99,
   "metadata": {
    "id": "9dpw6-d0vNlM"
   },
   "outputs": [],
   "source": [
    "new_image=image.load_img('/content/drive/MyDrive/Colab Notebooks/Cat and dogs classification/C & D data/archive.zip (Unzipped Files)/download.jpg',target_size=(64,64))"
   ]
  },
  {
   "cell_type": "code",
   "execution_count": 100,
   "metadata": {
    "colab": {
     "base_uri": "https://localhost:8080/",
     "height": 81
    },
    "id": "Gjk77vZEvNlN",
    "outputId": "e882857d-d121-4f03-9b09-5cbb6dc8adba"
   },
   "outputs": [
    {
     "data": {
      "image/png": "[encoded data removed]",
      "text/plain": [
       "<PIL.Image.Image image mode=RGB size=64x64 at 0x7F6E91D774D0>"
      ]
     },
     "execution_count": 100,
     "metadata": {
      "tags": []
     },
     "output_type": "execute_result"
    }
   ],
   "source": [
    "new_image"
   ]
  },
  {
   "cell_type": "markdown",
   "metadata": {
    "id": "0WEZ8zSHvNlO"
   },
   "source": [
    "#### Preprocessing the new image"
   ]
  },
  {
   "cell_type": "code",
   "execution_count": 101,
   "metadata": {
    "id": "ASTbjDpDm5uB"
   },
   "outputs": [],
   "source": [
    "new_image = image.img_to_array(new_image)\n",
    "new_image=new_image/255\n",
    "new_image = np.expand_dims(new_image, axis = 0)\n",
    "result = cnn.predict(new_image)"
   ]
  },
  {
   "cell_type": "code",
   "execution_count": 102,
   "metadata": {
    "colab": {
     "base_uri": "https://localhost:8080/"
    },
    "id": "Qqqv29bsfm3s",
    "outputId": "eb58ef70-d914-4684-dc89-03426dccc07c"
   },
   "outputs": [
    {
     "data": {
      "text/plain": [
       "array([[0.02467838]], dtype=float32)"
      ]
     },
     "execution_count": 102,
     "metadata": {
      "tags": []
     },
     "output_type": "execute_result"
    }
   ],
   "source": [
    "result"
   ]
  },
  {
   "cell_type": "code",
   "execution_count": 103,
   "metadata": {
    "colab": {
     "base_uri": "https://localhost:8080/"
    },
    "id": "hnXVLM3egdFf",
    "outputId": "0541e527-586d-48f4-b6e0-42e5da9465df"
   },
   "outputs": [
    {
     "name": "stdout",
     "output_type": "stream",
     "text": [
      "The image classified is cat\n"
     ]
    }
   ],
   "source": [
    "if result[0][0]<=0.5:\n",
    "    print(\"The image classified is cat\")\n",
    "else:\n",
    "    print(\"The image classified is dog\")"
   ]
  },
  {
   "cell_type": "markdown",
   "metadata": {},
   "source": [
    "#### Saving the model"
   ]
  },
  {
   "cell_type": "code",
   "execution_count": 104,
   "metadata": {
    "id": "cw1yyRJnrVms"
   },
   "outputs": [],
   "source": [
    "from tensorflow.keras.models import load_model\n",
    "\n",
    "cnn.save('SMS_cat_dog.h5')"
   ]
  },
  {
   "cell_type": "markdown",
   "metadata": {},
   "source": [
    "#### Loading the model"
   ]
  },
  {
   "cell_type": "code",
   "execution_count": 98,
   "metadata": {
    "id": "YSleIwNIThxy"
   },
   "outputs": [],
   "source": [
    "# loading the model\n",
    "\n",
    "model = load_model('SMS_cat_dog.h5')"
   ]
  }
 ],
 "metadata": {
  "colab": {
   "collapsed_sections": [],
   "name": "Cats _ Dog Classifier - Imarticus Learning.ipynb",
   "provenance": []
  },
  "kernelspec": {
   "display_name": "Python 3",
   "language": "python",
   "name": "python3"
  },
  "language_info": {
   "codemirror_mode": {
    "name": "ipython",
    "version": 3
   },
   "file_extension": ".py",
   "mimetype": "text/x-python",
   "name": "python",
   "nbconvert_exporter": "python",
   "pygments_lexer": "ipython3",
   "version": "3.8.3"
  }
 },
 "nbformat": 4,
 "nbformat_minor": 1
}
