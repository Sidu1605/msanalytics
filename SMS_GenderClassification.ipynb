{
 "cells": [
  {
   "cell_type": "markdown",
   "metadata": {},
   "source": [
    "## Problem Statement"
   ]
  },
  {
   "cell_type": "markdown",
   "metadata": {},
   "source": [
    "You are provided with a training file (.csv) with first names and the respective genders. Youraim is to write code to train and serve a machine learning model to assign a gender (male, female) to first names.The machine learning model must be able to determine the gender of names which have not been used to train the model. Please attempt this task to the best of your ability within 24 hours and send back to us. "
   ]
  },
  {
   "cell_type": "markdown",
   "metadata": {},
   "source": [
    "## Importing Necessary Libraries"
   ]
  },
  {
   "cell_type": "code",
   "execution_count": 1,
   "metadata": {},
   "outputs": [],
   "source": [
    "import pandas as pd\n",
    "import numpy as np\n",
    "import seaborn as sns\n",
    "from matplotlib import pyplot as plt"
   ]
  },
  {
   "cell_type": "markdown",
   "metadata": {},
   "source": [
    "## Loading the data"
   ]
  },
  {
   "cell_type": "code",
   "execution_count": 2,
   "metadata": {},
   "outputs": [],
   "source": [
    "df=pd.read_csv('name_gender.csv')"
   ]
  },
  {
   "cell_type": "code",
   "execution_count": 3,
   "metadata": {
    "scrolled": true
   },
   "outputs": [
    {
     "data": {
      "text/html": [
       "<div>\n",
       "<style scoped>\n",
       "    .dataframe tbody tr th:only-of-type {\n",
       "        vertical-align: middle;\n",
       "    }\n",
       "\n",
       "    .dataframe tbody tr th {\n",
       "        vertical-align: top;\n",
       "    }\n",
       "\n",
       "    .dataframe thead th {\n",
       "        text-align: right;\n",
       "    }\n",
       "</style>\n",
       "<table border=\"1\" class=\"dataframe\">\n",
       "  <thead>\n",
       "    <tr style=\"text-align: right;\">\n",
       "      <th></th>\n",
       "      <th>first_name</th>\n",
       "      <th>gender</th>\n",
       "      <th>Unnamed: 2</th>\n",
       "    </tr>\n",
       "  </thead>\n",
       "  <tbody>\n",
       "    <tr>\n",
       "      <th>0</th>\n",
       "      <td>Aaban</td>\n",
       "      <td>M</td>\n",
       "      <td>1.0</td>\n",
       "    </tr>\n",
       "    <tr>\n",
       "      <th>1</th>\n",
       "      <td>Aabha</td>\n",
       "      <td>F</td>\n",
       "      <td>1.0</td>\n",
       "    </tr>\n",
       "    <tr>\n",
       "      <th>2</th>\n",
       "      <td>Aabid</td>\n",
       "      <td>M</td>\n",
       "      <td>1.0</td>\n",
       "    </tr>\n",
       "    <tr>\n",
       "      <th>3</th>\n",
       "      <td>Aabriella</td>\n",
       "      <td>F</td>\n",
       "      <td>1.0</td>\n",
       "    </tr>\n",
       "    <tr>\n",
       "      <th>4</th>\n",
       "      <td>Aada</td>\n",
       "      <td>F</td>\n",
       "      <td>1.0</td>\n",
       "    </tr>\n",
       "    <tr>\n",
       "      <th>...</th>\n",
       "      <td>...</td>\n",
       "      <td>...</td>\n",
       "      <td>...</td>\n",
       "    </tr>\n",
       "    <tr>\n",
       "      <th>95020</th>\n",
       "      <td>Zyvion</td>\n",
       "      <td>M</td>\n",
       "      <td>1.0</td>\n",
       "    </tr>\n",
       "    <tr>\n",
       "      <th>95021</th>\n",
       "      <td>Zyvon</td>\n",
       "      <td>M</td>\n",
       "      <td>1.0</td>\n",
       "    </tr>\n",
       "    <tr>\n",
       "      <th>95022</th>\n",
       "      <td>Zyyanna</td>\n",
       "      <td>F</td>\n",
       "      <td>1.0</td>\n",
       "    </tr>\n",
       "    <tr>\n",
       "      <th>95023</th>\n",
       "      <td>Zyyon</td>\n",
       "      <td>M</td>\n",
       "      <td>1.0</td>\n",
       "    </tr>\n",
       "    <tr>\n",
       "      <th>95024</th>\n",
       "      <td>Zzyzx</td>\n",
       "      <td>M</td>\n",
       "      <td>1.0</td>\n",
       "    </tr>\n",
       "  </tbody>\n",
       "</table>\n",
       "<p>95025 rows × 3 columns</p>\n",
       "</div>"
      ],
      "text/plain": [
       "      first_name gender  Unnamed: 2\n",
       "0          Aaban      M         1.0\n",
       "1          Aabha      F         1.0\n",
       "2          Aabid      M         1.0\n",
       "3      Aabriella      F         1.0\n",
       "4           Aada      F         1.0\n",
       "...          ...    ...         ...\n",
       "95020     Zyvion      M         1.0\n",
       "95021      Zyvon      M         1.0\n",
       "95022    Zyyanna      F         1.0\n",
       "95023      Zyyon      M         1.0\n",
       "95024      Zzyzx      M         1.0\n",
       "\n",
       "[95025 rows x 3 columns]"
      ]
     },
     "execution_count": 3,
     "metadata": {},
     "output_type": "execute_result"
    }
   ],
   "source": [
    "df"
   ]
  },
  {
   "cell_type": "markdown",
   "metadata": {},
   "source": [
    "#### Columns and their datatypes"
   ]
  },
  {
   "cell_type": "code",
   "execution_count": 4,
   "metadata": {},
   "outputs": [
    {
     "name": "stdout",
     "output_type": "stream",
     "text": [
      "<class 'pandas.core.frame.DataFrame'>\n",
      "RangeIndex: 95025 entries, 0 to 95024\n",
      "Data columns (total 3 columns):\n",
      " #   Column      Non-Null Count  Dtype  \n",
      "---  ------      --------------  -----  \n",
      " 0   first_name  95025 non-null  object \n",
      " 1   gender      95025 non-null  object \n",
      " 2   Unnamed: 2  95025 non-null  float64\n",
      "dtypes: float64(1), object(2)\n",
      "memory usage: 2.2+ MB\n"
     ]
    }
   ],
   "source": [
    "df.info()"
   ]
  },
  {
   "cell_type": "markdown",
   "metadata": {},
   "source": [
    "#### Dropping unnamed column as it is useless"
   ]
  },
  {
   "cell_type": "code",
   "execution_count": 5,
   "metadata": {},
   "outputs": [],
   "source": [
    "df.drop(['Unnamed: 2'],axis=1,inplace=True)"
   ]
  },
  {
   "cell_type": "markdown",
   "metadata": {},
   "source": [
    "#### Checking for null values"
   ]
  },
  {
   "cell_type": "code",
   "execution_count": 6,
   "metadata": {},
   "outputs": [
    {
     "data": {
      "text/plain": [
       "first_name    0\n",
       "gender        0\n",
       "dtype: int64"
      ]
     },
     "execution_count": 6,
     "metadata": {},
     "output_type": "execute_result"
    }
   ],
   "source": [
    "df.isnull().sum()"
   ]
  },
  {
   "cell_type": "code",
   "execution_count": 7,
   "metadata": {},
   "outputs": [],
   "source": [
    "# there are no null values in our datatset"
   ]
  },
  {
   "cell_type": "markdown",
   "metadata": {},
   "source": [
    "## Analysing the target feature"
   ]
  },
  {
   "cell_type": "code",
   "execution_count": 8,
   "metadata": {},
   "outputs": [
    {
     "data": {
      "text/plain": [
       "F    60304\n",
       "M    34721\n",
       "Name: gender, dtype: int64"
      ]
     },
     "execution_count": 8,
     "metadata": {},
     "output_type": "execute_result"
    }
   ],
   "source": [
    "df['gender'].value_counts()"
   ]
  },
  {
   "cell_type": "code",
   "execution_count": 9,
   "metadata": {},
   "outputs": [],
   "source": [
    "# the data is imbalanced"
   ]
  },
  {
   "cell_type": "markdown",
   "metadata": {},
   "source": [
    "#### Visualising the target feature"
   ]
  },
  {
   "cell_type": "code",
   "execution_count": 10,
   "metadata": {},
   "outputs": [
    {
     "name": "stderr",
     "output_type": "stream",
     "text": [
      "c:\\users\\sidu1\\anaconda3\\envs\\msanalytics\\lib\\site-packages\\seaborn\\_decorators.py:36: FutureWarning: Pass the following variable as a keyword arg: x. From version 0.12, the only valid positional argument will be `data`, and passing other arguments without an explicit keyword will result in an error or misinterpretation.\n",
      "  warnings.warn(\n"
     ]
    },
    {
     "data": {
      "text/plain": [
       "<AxesSubplot:xlabel='gender', ylabel='count'>"
      ]
     },
     "execution_count": 10,
     "metadata": {},
     "output_type": "execute_result"
    },
    {
     "data": {
      "image/png": "[encoded data removed]",
      "text/plain": [
       "<Figure size 432x288 with 1 Axes>"
      ]
     },
     "metadata": {
      "needs_background": "light"
     },
     "output_type": "display_data"
    }
   ],
   "source": [
    "sns.countplot(df['gender'])"
   ]
  },
  {
   "cell_type": "code",
   "execution_count": 11,
   "metadata": {},
   "outputs": [],
   "source": [
    "# Replacing All F and M with 0 and 1 respectively\n",
    "df.gender.replace({'F':0,'M':1},inplace=True)"
   ]
  },
  {
   "cell_type": "code",
   "execution_count": 12,
   "metadata": {},
   "outputs": [
    {
     "data": {
      "text/plain": [
       "array([1, 0], dtype=int64)"
      ]
     },
     "execution_count": 12,
     "metadata": {},
     "output_type": "execute_result"
    }
   ],
   "source": [
    "df.gender.unique()"
   ]
  },
  {
   "cell_type": "markdown",
   "metadata": {},
   "source": [
    "## Analysing first_name feature"
   ]
  },
  {
   "cell_type": "code",
   "execution_count": 13,
   "metadata": {},
   "outputs": [],
   "source": [
    "# applying countvectorizer for the first_name\n",
    "# it creates document-type matrix(sparse matrix) based on the count"
   ]
  },
  {
   "cell_type": "code",
   "execution_count": 14,
   "metadata": {},
   "outputs": [],
   "source": [
    "Xfeatures=df['first_name']"
   ]
  },
  {
   "cell_type": "code",
   "execution_count": 15,
   "metadata": {},
   "outputs": [],
   "source": [
    "from sklearn.feature_extraction.text import CountVectorizer\n",
    "\n",
    "cv = CountVectorizer()\n",
    "X = cv.fit_transform(Xfeatures)"
   ]
  },
  {
   "cell_type": "code",
   "execution_count": 16,
   "metadata": {},
   "outputs": [
    {
     "data": {
      "text/plain": [
       "<95025x95025 sparse matrix of type '<class 'numpy.int64'>'\n",
       "\twith 95025 stored elements in Compressed Sparse Row format>"
      ]
     },
     "execution_count": 16,
     "metadata": {},
     "output_type": "execute_result"
    }
   ],
   "source": [
    "X"
   ]
  },
  {
   "cell_type": "code",
   "execution_count": 17,
   "metadata": {},
   "outputs": [
    {
     "data": {
      "text/plain": [
       "['aaban',\n",
       " 'aabha',\n",
       " 'aabid',\n",
       " 'aabriella',\n",
       " 'aada',\n",
       " 'aadam',\n",
       " 'aadan',\n",
       " 'aadarsh',\n",
       " 'aaden',\n",
       " 'aadesh',\n",
       " 'aadhav',\n",
       " 'aadhavan',\n",
       " 'aadhi',\n",
       " 'aadhira',\n",
       " 'aadhvik',\n",
       " 'aadhya',\n",
       " 'aadhyan',\n",
       " 'aadi',\n",
       " 'aadian',\n",
       " 'aadil',\n",
       " 'aadin',\n",
       " 'aadish',\n",
       " 'aadison',\n",
       " 'aadit',\n",
       " 'aadith',\n",
       " 'aadithya',\n",
       " 'aaditri',\n",
       " 'aaditya',\n",
       " 'aadiv',\n",
       " 'aadon',\n",
       " 'aadrian',\n",
       " 'aadrika',\n",
       " 'aadrit',\n",
       " 'aadvik',\n",
       " 'aadvika',\n",
       " 'aadya',\n",
       " 'aadyn',\n",
       " 'aafia',\n",
       " 'aafreen',\n",
       " 'aagam',\n",
       " 'aage',\n",
       " 'aagot',\n",
       " 'aahaan',\n",
       " 'aahan',\n",
       " 'aahana',\n",
       " 'aahil',\n",
       " 'aahir',\n",
       " 'aahliyah',\n",
       " 'aahna',\n",
       " 'aahron',\n",
       " 'aaidan',\n",
       " 'aaiden',\n",
       " 'aaidyn',\n",
       " 'aaila',\n",
       " 'aailiyah',\n",
       " 'aailyah',\n",
       " 'aaima',\n",
       " 'aaira',\n",
       " 'aairah',\n",
       " 'aaisha',\n",
       " 'aaishah',\n",
       " 'aaiyana',\n",
       " 'aaiza',\n",
       " 'aaja',\n",
       " 'aajah',\n",
       " 'aajaylah',\n",
       " 'aajon',\n",
       " 'aakanksha',\n",
       " 'aakarsh',\n",
       " 'aakash',\n",
       " 'aakeem',\n",
       " 'aakilah',\n",
       " 'aakira',\n",
       " 'aakiyah',\n",
       " 'aakriti',\n",
       " 'aala',\n",
       " 'aalaiya',\n",
       " 'aalaiyah',\n",
       " 'aalana',\n",
       " 'aalanah',\n",
       " 'aalani',\n",
       " 'aalap',\n",
       " 'aalaya',\n",
       " 'aalayah',\n",
       " 'aalayiah',\n",
       " 'aalayjah',\n",
       " 'aalayna',\n",
       " 'aalaysha',\n",
       " 'aalaysia',\n",
       " 'aalea',\n",
       " 'aaleah',\n",
       " 'aaleahya',\n",
       " 'aaleena',\n",
       " 'aaleeya',\n",
       " 'aaleeyah',\n",
       " 'aaleiah',\n",
       " 'aaleigha',\n",
       " 'aaleiyah',\n",
       " 'aalena',\n",
       " 'aalexis',\n",
       " 'aalexus',\n",
       " 'aaleya',\n",
       " 'aaleyah',\n",
       " 'aali',\n",
       " 'aalia',\n",
       " 'aaliah',\n",
       " 'aaliana',\n",
       " 'aalias',\n",
       " 'aaliayah',\n",
       " 'aaliayh',\n",
       " 'aalicia',\n",
       " 'aaliha',\n",
       " 'aalijah',\n",
       " 'aalim',\n",
       " 'aalimah',\n",
       " 'aalina',\n",
       " 'aalinah',\n",
       " 'aalisa',\n",
       " 'aalisha',\n",
       " 'aalivia',\n",
       " 'aaliya',\n",
       " 'aaliyaa',\n",
       " 'aaliyah',\n",
       " 'aaliyaha',\n",
       " 'aaliyahmarie',\n",
       " 'aaliyahrose',\n",
       " 'aaliyan',\n",
       " 'aaliyana',\n",
       " 'aaliyanna',\n",
       " 'aaliyha',\n",
       " 'aaliyiah',\n",
       " 'aalliyah',\n",
       " 'aallyah',\n",
       " 'aalok',\n",
       " 'aalon',\n",
       " 'aalya',\n",
       " 'aalyah',\n",
       " 'aalycia',\n",
       " 'aalyha',\n",
       " 'aalyia',\n",
       " 'aalyiah',\n",
       " 'aalyna',\n",
       " 'aalysia',\n",
       " 'aalyssa',\n",
       " 'aalyvia',\n",
       " 'aamanda',\n",
       " 'aamanee',\n",
       " 'aamani',\n",
       " 'aamar',\n",
       " 'aamari',\n",
       " 'aamarion',\n",
       " 'aamaya',\n",
       " 'aamber',\n",
       " 'aamena',\n",
       " 'aamer',\n",
       " 'aamia',\n",
       " 'aamil',\n",
       " 'aamilah',\n",
       " 'aamina',\n",
       " 'aaminah',\n",
       " 'aamir',\n",
       " 'aamira',\n",
       " 'aamirah',\n",
       " 'aamiya',\n",
       " 'aamiyah',\n",
       " 'aamna',\n",
       " 'aamoni',\n",
       " 'aamori',\n",
       " 'aamya',\n",
       " 'aamyah',\n",
       " 'aana',\n",
       " 'aanand',\n",
       " 'aanav',\n",
       " 'aanaya',\n",
       " 'aanchal',\n",
       " 'aania',\n",
       " 'aaniah',\n",
       " 'aanijah',\n",
       " 'aanika',\n",
       " 'aanisah',\n",
       " 'aaniya',\n",
       " 'aaniyah',\n",
       " 'aaniylah',\n",
       " 'aansh',\n",
       " 'aanshi',\n",
       " 'aanvi',\n",
       " 'aanya',\n",
       " 'aanyah',\n",
       " 'aanyla',\n",
       " 'aapri',\n",
       " 'aaqib',\n",
       " 'aaqil',\n",
       " 'aara',\n",
       " 'aarabella',\n",
       " 'aarabhi',\n",
       " 'aaradhana',\n",
       " 'aaradhy',\n",
       " 'aaradhya',\n",
       " 'aaraiz',\n",
       " 'aaralyn',\n",
       " 'aaralynn',\n",
       " 'aaran',\n",
       " 'aaraon',\n",
       " 'aaratrika',\n",
       " 'aarav',\n",
       " 'aaravi',\n",
       " 'aaraya',\n",
       " 'aaren',\n",
       " 'aareon',\n",
       " 'aareona',\n",
       " 'aari',\n",
       " 'aaria',\n",
       " 'aariah',\n",
       " 'aarian',\n",
       " 'aariana',\n",
       " 'aarianna',\n",
       " 'aarib',\n",
       " 'aaric',\n",
       " 'aarica',\n",
       " 'aarick',\n",
       " 'aarie',\n",
       " 'aariel',\n",
       " 'aarielle',\n",
       " 'aarien',\n",
       " 'aarik',\n",
       " 'aarika',\n",
       " 'aariketh',\n",
       " 'aarilyn',\n",
       " 'aarilynn',\n",
       " 'aarin',\n",
       " 'aarini',\n",
       " 'aarion',\n",
       " 'aariona',\n",
       " 'aarionna',\n",
       " 'aaris',\n",
       " 'aarish',\n",
       " 'aarit',\n",
       " 'aariv',\n",
       " 'aariya',\n",
       " 'aariyah',\n",
       " 'aariyan',\n",
       " 'aariyana',\n",
       " 'aariyanna',\n",
       " 'aariyona',\n",
       " 'aariyonna',\n",
       " 'aariz',\n",
       " 'aarjav',\n",
       " 'aarn',\n",
       " 'aarna',\n",
       " 'aarnav',\n",
       " 'aarnavi',\n",
       " 'aarne',\n",
       " 'aaro',\n",
       " 'aaroh',\n",
       " 'aarohan',\n",
       " 'aarohi',\n",
       " 'aarolyn',\n",
       " 'aaron',\n",
       " 'aarona',\n",
       " 'aaronae',\n",
       " 'aaronda',\n",
       " 'aaronette',\n",
       " 'aaronisha',\n",
       " 'aaronjacob',\n",
       " 'aaronjames',\n",
       " 'aaronjohn',\n",
       " 'aaronjoseph',\n",
       " 'aaronjosh',\n",
       " 'aaronjoshua',\n",
       " 'aaronlee',\n",
       " 'aaronmichael',\n",
       " 'aaronn',\n",
       " 'aaroosh',\n",
       " 'aarren',\n",
       " 'aarron',\n",
       " 'aarsh',\n",
       " 'aarshi',\n",
       " 'aarshiya',\n",
       " 'aarthi',\n",
       " 'aarti',\n",
       " 'aaruhi',\n",
       " 'aarush',\n",
       " 'aarushi',\n",
       " 'aarvi',\n",
       " 'aarvin',\n",
       " 'aarya',\n",
       " 'aaryah',\n",
       " 'aaryahi',\n",
       " 'aaryan',\n",
       " 'aaryana',\n",
       " 'aaryanna',\n",
       " 'aaryash',\n",
       " 'aaryav',\n",
       " 'aaryn',\n",
       " 'aaryon',\n",
       " 'aaryona',\n",
       " 'aarza',\n",
       " 'aaser',\n",
       " 'aasha',\n",
       " 'aashana',\n",
       " 'aashay',\n",
       " 'aashi',\n",
       " 'aashia',\n",
       " 'aashika',\n",
       " 'aashini',\n",
       " 'aashir',\n",
       " 'aashirya',\n",
       " 'aashish',\n",
       " 'aashita',\n",
       " 'aashiyana',\n",
       " 'aashka',\n",
       " 'aashman',\n",
       " 'aashna',\n",
       " 'aashni',\n",
       " 'aashray',\n",
       " 'aashrita',\n",
       " 'aashrith',\n",
       " 'aashritha',\n",
       " 'aashvi',\n",
       " 'aasia',\n",
       " 'aasim',\n",
       " 'aasin',\n",
       " 'aasir',\n",
       " 'aasiya',\n",
       " 'aasiyah',\n",
       " 'aason',\n",
       " 'aastha',\n",
       " 'aathan',\n",
       " 'aatif',\n",
       " 'aatish',\n",
       " 'aava',\n",
       " 'aavah',\n",
       " 'aavash',\n",
       " 'aaven',\n",
       " 'aavi',\n",
       " 'aavin',\n",
       " 'aavion',\n",
       " 'aavya',\n",
       " 'aavyan',\n",
       " 'aavyn',\n",
       " 'aaya',\n",
       " 'aayaan',\n",
       " 'aayah',\n",
       " 'aayam',\n",
       " 'aayan',\n",
       " 'aayana',\n",
       " 'aayanah',\n",
       " 'aayanna',\n",
       " 'aayansh',\n",
       " 'aayat',\n",
       " 'aaydan',\n",
       " 'aayden',\n",
       " 'aayla',\n",
       " 'aaylah',\n",
       " 'aayliah',\n",
       " 'aayra',\n",
       " 'aayu',\n",
       " 'aayush',\n",
       " 'aayusha',\n",
       " 'aayushi',\n",
       " 'aazan',\n",
       " 'aazim',\n",
       " 'aaziyah',\n",
       " 'ab',\n",
       " 'aba',\n",
       " 'abaan',\n",
       " 'abad',\n",
       " 'abagael',\n",
       " 'abagail',\n",
       " 'abagaile',\n",
       " 'abagale',\n",
       " 'abagayle',\n",
       " 'abaigael',\n",
       " 'abaigail',\n",
       " 'abaigeal',\n",
       " 'aban',\n",
       " 'abanoub',\n",
       " 'abas',\n",
       " 'abasi',\n",
       " 'abass',\n",
       " 'abayomi',\n",
       " 'abb',\n",
       " 'abba',\n",
       " 'abbaas',\n",
       " 'abbagail',\n",
       " 'abbagale',\n",
       " 'abbagayle',\n",
       " 'abbas',\n",
       " 'abbe',\n",
       " 'abbee',\n",
       " 'abbegail',\n",
       " 'abbegale',\n",
       " 'abbegayle',\n",
       " 'abbey',\n",
       " 'abbeygail',\n",
       " 'abbeygale',\n",
       " 'abbi',\n",
       " 'abbie',\n",
       " 'abbiegail',\n",
       " 'abbiegale',\n",
       " 'abbiegayle',\n",
       " 'abbigael',\n",
       " 'abbigail',\n",
       " 'abbigaile',\n",
       " 'abbigal',\n",
       " 'abbigale',\n",
       " 'abbigayl',\n",
       " 'abbigayle',\n",
       " 'abbilyn',\n",
       " 'abbot',\n",
       " 'abbott',\n",
       " 'abbra',\n",
       " 'abbriella',\n",
       " 'abbrielle',\n",
       " 'abby',\n",
       " 'abbye',\n",
       " 'abbygael',\n",
       " 'abbygail',\n",
       " 'abbygaile',\n",
       " 'abbygale',\n",
       " 'abbygayl',\n",
       " 'abbygayle',\n",
       " 'abbylynn',\n",
       " 'abcde',\n",
       " 'abd',\n",
       " 'abdala',\n",
       " 'abdalah',\n",
       " 'abdalla',\n",
       " 'abdallah',\n",
       " 'abdalrahman',\n",
       " 'abdalrhman',\n",
       " 'abdel',\n",
       " 'abdelaziz',\n",
       " 'abdelhadi',\n",
       " 'abdelkareem',\n",
       " 'abdelkarim',\n",
       " 'abdellah',\n",
       " 'abdelrahman',\n",
       " 'abdelrhman',\n",
       " 'abderrahman',\n",
       " 'abdi',\n",
       " 'abdias',\n",
       " 'abdiasis',\n",
       " 'abdiaziz',\n",
       " 'abdiel',\n",
       " 'abdifatah',\n",
       " 'abdihafid',\n",
       " 'abdihakim',\n",
       " 'abdihamid',\n",
       " 'abdikadir',\n",
       " 'abdikarim',\n",
       " 'abdikhaliq',\n",
       " 'abdilahi',\n",
       " 'abdimalik',\n",
       " 'abdinajib',\n",
       " 'abdinasir',\n",
       " 'abdiqani',\n",
       " 'abdirahim',\n",
       " 'abdirahin',\n",
       " 'abdirahman',\n",
       " 'abdirashid',\n",
       " 'abdirisaq',\n",
       " 'abdirizak',\n",
       " 'abdisalam',\n",
       " 'abdisalan',\n",
       " 'abdisamad',\n",
       " 'abdishakur',\n",
       " 'abdiwahab',\n",
       " 'abdiwali',\n",
       " 'abdo',\n",
       " 'abdon',\n",
       " 'abdou',\n",
       " 'abdoul',\n",
       " 'abdoulaye',\n",
       " 'abdoulaziz',\n",
       " 'abdoulie',\n",
       " 'abdourahman',\n",
       " 'abdourahmane',\n",
       " 'abdrahman',\n",
       " 'abdrew',\n",
       " 'abdu',\n",
       " 'abdual',\n",
       " 'abduallah',\n",
       " 'abduel',\n",
       " 'abdul',\n",
       " 'abdula',\n",
       " 'abdulah',\n",
       " 'abdulahad',\n",
       " 'abdulahi',\n",
       " 'abdulai',\n",
       " 'abdulaye',\n",
       " 'abdulazeem',\n",
       " 'abdulazeez',\n",
       " 'abdulaziz',\n",
       " 'abdulbari',\n",
       " 'abdulbasit',\n",
       " 'abdule',\n",
       " 'abdulelah',\n",
       " 'abdulhadi',\n",
       " 'abdulhakeem',\n",
       " 'abdulhakim',\n",
       " 'abdulhalim',\n",
       " 'abdulhameed',\n",
       " 'abdulhamid',\n",
       " 'abduljabbar',\n",
       " 'abduljaleel',\n",
       " 'abduljalil',\n",
       " 'abdulkadir',\n",
       " 'abdulkareem',\n",
       " 'abdulkarim',\n",
       " 'abdulkhaliq',\n",
       " 'abdull',\n",
       " 'abdulla',\n",
       " 'abdullah',\n",
       " 'abdullahi',\n",
       " 'abdullatif',\n",
       " 'abdulloh',\n",
       " 'abdulmajeed',\n",
       " 'abdulmajid',\n",
       " 'abdulmalek',\n",
       " 'abdulmalik',\n",
       " 'abdulmohsen',\n",
       " 'abdulnasir',\n",
       " 'abdulqadir',\n",
       " 'abdulraheem',\n",
       " 'abdulrahim',\n",
       " 'abdulrahman',\n",
       " 'abdulrazaq',\n",
       " 'abdulrehman',\n",
       " 'abdulrhman',\n",
       " 'abdulsalam',\n",
       " 'abdulsamad',\n",
       " 'abdulwadud',\n",
       " 'abdulwahab',\n",
       " 'abdulwahid',\n",
       " 'abdur',\n",
       " 'abdurahman',\n",
       " 'abdurahmon',\n",
       " 'abdurraheem',\n",
       " 'abdurrahim',\n",
       " 'abdurrahmaan',\n",
       " 'abdurrahman',\n",
       " 'abdurrehman',\n",
       " 'abdussamad',\n",
       " 'abe',\n",
       " 'abeal',\n",
       " 'abed',\n",
       " 'abedallah',\n",
       " 'abedalrahman',\n",
       " 'abednego',\n",
       " 'abeeha',\n",
       " 'abeer',\n",
       " 'abeera',\n",
       " 'abegail',\n",
       " 'abegale',\n",
       " 'abegayle',\n",
       " 'abel',\n",
       " 'abela',\n",
       " 'abelardo',\n",
       " 'abelina',\n",
       " 'abelino',\n",
       " 'abell',\n",
       " 'abella',\n",
       " 'abem',\n",
       " 'aben',\n",
       " 'abena',\n",
       " 'abenezer',\n",
       " 'abeni',\n",
       " 'aber',\n",
       " 'aberdeen',\n",
       " 'aberham',\n",
       " 'abernathy',\n",
       " 'abert',\n",
       " 'abery',\n",
       " 'abey',\n",
       " 'abgail',\n",
       " 'abha',\n",
       " 'abhay',\n",
       " 'abheek',\n",
       " 'abhi',\n",
       " 'abhigna',\n",
       " 'abhijay',\n",
       " 'abhijeet',\n",
       " 'abhijit',\n",
       " 'abhijot',\n",
       " 'abhik',\n",
       " 'abhilash',\n",
       " 'abhimanyu',\n",
       " 'abhinav',\n",
       " 'abhinay',\n",
       " 'abhinaya',\n",
       " 'abhiraam',\n",
       " 'abhiraj',\n",
       " 'abhiram',\n",
       " 'abhirup',\n",
       " 'abhishek',\n",
       " 'abhyuday',\n",
       " 'abi',\n",
       " 'abia',\n",
       " 'abiageal',\n",
       " 'abiah',\n",
       " 'abian',\n",
       " 'abianna',\n",
       " 'abibail',\n",
       " 'abid',\n",
       " 'abida',\n",
       " 'abidah',\n",
       " 'abidan',\n",
       " 'abie',\n",
       " 'abiegail',\n",
       " 'abiel',\n",
       " 'abiela',\n",
       " 'abiella',\n",
       " 'abiezer',\n",
       " 'abigael',\n",
       " 'abigaelle',\n",
       " 'abigahil',\n",
       " 'abigai',\n",
       " 'abigail',\n",
       " 'abigaile',\n",
       " 'abigailgrace',\n",
       " 'abigaille',\n",
       " 'abigailmarie',\n",
       " 'abigailrose',\n",
       " 'abigal',\n",
       " 'abigale',\n",
       " 'abigayil',\n",
       " 'abigayl',\n",
       " 'abigayle',\n",
       " 'abigeal',\n",
       " 'abigel',\n",
       " 'abigial',\n",
       " 'abiha',\n",
       " 'abihail',\n",
       " 'abijah',\n",
       " 'abilene',\n",
       " 'abilgail',\n",
       " 'abilio',\n",
       " 'abilyn',\n",
       " 'abilynn',\n",
       " 'abimael',\n",
       " 'abimbola',\n",
       " 'abimelec',\n",
       " 'abin',\n",
       " 'abinadab',\n",
       " 'abinadi',\n",
       " 'abinav',\n",
       " 'abinaya',\n",
       " 'abiodun',\n",
       " 'abiola',\n",
       " 'abiona',\n",
       " 'abir',\n",
       " 'abira',\n",
       " 'abiram',\n",
       " 'abirami',\n",
       " 'abisag',\n",
       " 'abisai',\n",
       " 'abish',\n",
       " 'abisha',\n",
       " 'abishai',\n",
       " 'abishek',\n",
       " 'abisola',\n",
       " 'abiud',\n",
       " 'abiyah',\n",
       " 'abla',\n",
       " 'able',\n",
       " 'abnel',\n",
       " 'abner',\n",
       " 'abney',\n",
       " 'abony',\n",
       " 'abou',\n",
       " 'aboubacar',\n",
       " 'aboubakar',\n",
       " 'abra',\n",
       " 'abraam',\n",
       " 'abraar',\n",
       " 'abrah',\n",
       " 'abraham',\n",
       " 'abrahan',\n",
       " 'abraheem',\n",
       " 'abrahem',\n",
       " 'abrahim',\n",
       " 'abrahm',\n",
       " 'abram',\n",
       " 'abran',\n",
       " 'abranda',\n",
       " 'abrar',\n",
       " 'abraxas',\n",
       " 'abrea',\n",
       " 'abreana',\n",
       " 'abreanna',\n",
       " 'abree',\n",
       " 'abreia',\n",
       " 'abren',\n",
       " 'abreona',\n",
       " 'abreonna',\n",
       " 'abrey',\n",
       " 'abreya',\n",
       " 'abrham',\n",
       " 'abri',\n",
       " 'abria',\n",
       " 'abriah',\n",
       " 'abrial',\n",
       " 'abriam',\n",
       " 'abrian',\n",
       " 'abriana',\n",
       " 'abrianna',\n",
       " 'abriannah',\n",
       " 'abrianne',\n",
       " 'abrie',\n",
       " 'abriel',\n",
       " 'abriela',\n",
       " 'abriele',\n",
       " 'abriella',\n",
       " 'abrielle',\n",
       " 'abrien',\n",
       " 'abrienne',\n",
       " 'abrigail',\n",
       " 'abrihet',\n",
       " 'abril',\n",
       " 'abrille',\n",
       " 'abrina',\n",
       " 'abrion',\n",
       " 'abriona',\n",
       " 'abrionna',\n",
       " 'abrish',\n",
       " 'abriya',\n",
       " 'abriyah',\n",
       " 'abriyana',\n",
       " 'abrom',\n",
       " 'abron',\n",
       " 'abrum',\n",
       " 'abry',\n",
       " 'abryana',\n",
       " 'abryanna',\n",
       " 'abryella',\n",
       " 'abryelle',\n",
       " 'abryl',\n",
       " 'absalat',\n",
       " 'absalom',\n",
       " 'absalon',\n",
       " 'abshir',\n",
       " 'absidy',\n",
       " 'abtin',\n",
       " 'abu',\n",
       " 'abubacar',\n",
       " 'abubacarr',\n",
       " 'abubakar',\n",
       " 'abubakarr',\n",
       " 'abubakary',\n",
       " 'abubaker',\n",
       " 'abubakr',\n",
       " 'abuk',\n",
       " 'abukar',\n",
       " 'abundio',\n",
       " 'aby',\n",
       " 'abyade',\n",
       " 'abyan',\n",
       " 'abygael',\n",
       " 'abygail',\n",
       " 'abygaile',\n",
       " 'abygale',\n",
       " 'abygayle',\n",
       " 'abyssinia',\n",
       " 'ac',\n",
       " 'acacia',\n",
       " 'acacius',\n",
       " 'acadia',\n",
       " 'acamas',\n",
       " 'acari',\n",
       " 'acasia',\n",
       " 'accacia',\n",
       " 'accalia',\n",
       " 'access',\n",
       " 'accie',\n",
       " 'accursio',\n",
       " 'ace',\n",
       " 'acea',\n",
       " 'acein',\n",
       " 'acel',\n",
       " 'acelin',\n",
       " 'acelino',\n",
       " 'acelyn',\n",
       " 'acelynn',\n",
       " 'acen',\n",
       " 'acencion',\n",
       " 'aceon',\n",
       " 'acer',\n",
       " 'aceson',\n",
       " 'acesyn',\n",
       " 'aceton',\n",
       " 'acey',\n",
       " 'aceyn',\n",
       " 'achai',\n",
       " 'achaia',\n",
       " 'achan',\n",
       " 'achante',\n",
       " 'achanti',\n",
       " 'achary',\n",
       " 'achazia',\n",
       " 'achel',\n",
       " 'acheron',\n",
       " 'achille',\n",
       " 'achilles',\n",
       " 'achilleus',\n",
       " 'achillies',\n",
       " 'achintya',\n",
       " 'achol',\n",
       " 'achraf',\n",
       " 'achsa',\n",
       " 'achsah',\n",
       " 'achyut',\n",
       " 'achyuth',\n",
       " 'acia',\n",
       " 'aciano',\n",
       " 'acie',\n",
       " 'aciel',\n",
       " 'acil',\n",
       " 'acire',\n",
       " 'ackeem',\n",
       " 'ackley',\n",
       " 'acob',\n",
       " 'acquanetta',\n",
       " 'acquanette',\n",
       " 'acsa',\n",
       " 'acura',\n",
       " 'acxel',\n",
       " 'acy',\n",
       " 'ad',\n",
       " 'ada',\n",
       " 'adabel',\n",
       " 'adabella',\n",
       " 'adabelle',\n",
       " 'adacia',\n",
       " 'adae',\n",
       " 'adael',\n",
       " 'adaelyn',\n",
       " 'adaeze',\n",
       " 'adagio',\n",
       " 'adah',\n",
       " 'adahir',\n",
       " 'adahli',\n",
       " 'adahlia',\n",
       " 'adahy',\n",
       " 'adai',\n",
       " 'adaia',\n",
       " 'adaiah',\n",
       " 'adaija',\n",
       " 'adaijah',\n",
       " 'adailyn',\n",
       " 'adain',\n",
       " 'adair',\n",
       " 'adaira',\n",
       " 'adaire',\n",
       " 'adairis',\n",
       " 'adaisha',\n",
       " 'adaisia',\n",
       " 'adaja',\n",
       " 'adajah',\n",
       " 'adaku',\n",
       " 'adal',\n",
       " 'adala',\n",
       " 'adalade',\n",
       " 'adalae',\n",
       " 'adalai',\n",
       " 'adalaide',\n",
       " 'adalay',\n",
       " 'adalaya',\n",
       " 'adalayde',\n",
       " 'adalbert',\n",
       " 'adalberto',\n",
       " 'adale',\n",
       " 'adalea',\n",
       " 'adaleah',\n",
       " 'adalee',\n",
       " 'adaleen',\n",
       " 'adaleena',\n",
       " 'adalei',\n",
       " 'adaleia',\n",
       " 'adaleigh',\n",
       " 'adaleine',\n",
       " 'adalen',\n",
       " 'adalena',\n",
       " 'adalene',\n",
       " 'adaley',\n",
       " 'adaleya',\n",
       " 'adaleyza',\n",
       " 'adalhi',\n",
       " 'adali',\n",
       " 'adalia',\n",
       " 'adaliah',\n",
       " 'adalicia',\n",
       " 'adalid',\n",
       " 'adalida',\n",
       " 'adalie',\n",
       " 'adaliene',\n",
       " 'adalin',\n",
       " 'adalina',\n",
       " 'adalind',\n",
       " 'adalinda',\n",
       " 'adaline',\n",
       " 'adalinn',\n",
       " 'adalinne',\n",
       " 'adalis',\n",
       " 'adalisa',\n",
       " 'adalise',\n",
       " 'adalisse',\n",
       " 'adalius',\n",
       " 'adaliyah',\n",
       " 'adaliz',\n",
       " 'adalize',\n",
       " 'adallyn',\n",
       " 'adaly',\n",
       " 'adalya',\n",
       " 'adalye',\n",
       " 'adalyn',\n",
       " 'adalyna',\n",
       " 'adalynd',\n",
       " 'adalyne',\n",
       " 'adalynn',\n",
       " 'adalynne',\n",
       " 'adalys',\n",
       " 'adalyse',\n",
       " 'adam',\n",
       " 'adama',\n",
       " 'adamae',\n",
       " 'adamari',\n",
       " 'adamarie',\n",
       " 'adamaris',\n",
       " 'adamariz',\n",
       " 'adamary',\n",
       " 'adamarys',\n",
       " 'adamina',\n",
       " 'adamm',\n",
       " 'adamma',\n",
       " 'adammichael',\n",
       " 'adamo',\n",
       " 'adams',\n",
       " 'adan',\n",
       " 'adana',\n",
       " 'adaneli',\n",
       " 'adanelly',\n",
       " 'adanely',\n",
       " 'adanna',\n",
       " 'adannaya',\n",
       " 'adante',\n",
       " 'adanya',\n",
       " 'adaobi',\n",
       " 'adaora',\n",
       " 'adar',\n",
       " 'adara',\n",
       " 'adarah',\n",
       " 'adari',\n",
       " 'adaria',\n",
       " 'adarian',\n",
       " 'adarien',\n",
       " 'adarion',\n",
       " 'adarious',\n",
       " 'adarius',\n",
       " 'adarrius',\n",
       " 'adarryl',\n",
       " 'adarryll',\n",
       " 'adarsh',\n",
       " 'adaryl',\n",
       " 'adaryll',\n",
       " 'adasha',\n",
       " 'adashia',\n",
       " 'adasia',\n",
       " 'adason',\n",
       " 'adassa',\n",
       " 'adasyn',\n",
       " 'adaugo',\n",
       " 'adaure',\n",
       " 'adavia',\n",
       " 'adavion',\n",
       " 'adaya',\n",
       " 'adayah',\n",
       " 'adayla',\n",
       " 'adaysha',\n",
       " 'adayshia',\n",
       " 'adaysia',\n",
       " 'adbeel',\n",
       " 'adbiel',\n",
       " 'add',\n",
       " 'adda',\n",
       " 'addah',\n",
       " 'addai',\n",
       " 'addalee',\n",
       " 'addaleigh',\n",
       " 'addaley',\n",
       " 'addalie',\n",
       " 'addalin',\n",
       " 'addalina',\n",
       " 'addaline',\n",
       " 'addalyn',\n",
       " 'addalyne',\n",
       " 'addalynn',\n",
       " 'addalynne',\n",
       " 'addam',\n",
       " 'addan',\n",
       " ...]"
      ]
     },
     "execution_count": 17,
     "metadata": {},
     "output_type": "execute_result"
    }
   ],
   "source": [
    "cv.get_feature_names()"
   ]
  },
  {
   "cell_type": "code",
   "execution_count": 18,
   "metadata": {},
   "outputs": [],
   "source": [
    "from sklearn.model_selection import train_test_split\n",
    "\n",
    "# Features \n",
    "X\n",
    "# Labels\n",
    "y = df.gender\n",
    "\n",
    "X_train, X_test, y_train, y_test = train_test_split(X, y, test_size=0.3, random_state=0)"
   ]
  },
  {
   "cell_type": "markdown",
   "metadata": {},
   "source": [
    "## Naive Bayes Classifier"
   ]
  },
  {
   "cell_type": "code",
   "execution_count": 19,
   "metadata": {},
   "outputs": [
    {
     "data": {
      "text/plain": [
       "0.6320331135119966"
      ]
     },
     "execution_count": 19,
     "metadata": {},
     "output_type": "execute_result"
    }
   ],
   "source": [
    "from sklearn.naive_bayes import MultinomialNB\n",
    "clf = MultinomialNB()\n",
    "clf.fit(X_train,y_train)\n",
    "clf.score(X_test,y_test)"
   ]
  },
  {
   "cell_type": "code",
   "execution_count": 20,
   "metadata": {},
   "outputs": [],
   "source": [
    "# Prediction\n",
    "\n",
    "y_pred=clf.predict(X_test)"
   ]
  },
  {
   "cell_type": "code",
   "execution_count": 21,
   "metadata": {},
   "outputs": [
    {
     "data": {
      "text/plain": [
       "array([0, 0, 0, ..., 0, 0, 0], dtype=int64)"
      ]
     },
     "execution_count": 21,
     "metadata": {},
     "output_type": "execute_result"
    }
   ],
   "source": [
    "y_pred"
   ]
  },
  {
   "cell_type": "markdown",
   "metadata": {},
   "source": [
    "#### Calculating metrices"
   ]
  },
  {
   "cell_type": "code",
   "execution_count": 22,
   "metadata": {},
   "outputs": [
    {
     "data": {
      "image/png": "[encoded data removed]",
      "text/plain": [
       "<Figure size 576x360 with 1 Axes>"
      ]
     },
     "metadata": {
      "needs_background": "light"
     },
     "output_type": "display_data"
    }
   ],
   "source": [
    "from sklearn.metrics import confusion_matrix\n",
    "# compute the confusion matrix\n",
    "cm = confusion_matrix(y_test, y_pred)\n",
    "\n",
    "# label the confusion matrix  \n",
    "conf_matrix = pd.DataFrame(data=cm,columns=['Predicted:0','Predicted:1'],index=['Actual:0','Actual:1'])\n",
    "\n",
    "# set sizeof the plot\n",
    "plt.figure(figsize = (8,5))\n",
    "\n",
    "# plot a heatmap\n",
    "# cmap: colour code used for plotting\n",
    "# annot: prints the correlation values in the chart\n",
    "# annot_kws: sets the font size of the annotation\n",
    "# cbar=False: Whether to draw a colorbar\n",
    "# fmt: string formatting code to use when adding annotations\n",
    "sns.heatmap(conf_matrix, annot=True, fmt='d', cmap=\"YlGnBu\", cbar=False)\n",
    "plt.show()"
   ]
  },
  {
   "cell_type": "code",
   "execution_count": 23,
   "metadata": {},
   "outputs": [],
   "source": [
    "# from confusion matrix the false negative error is more"
   ]
  },
  {
   "cell_type": "code",
   "execution_count": 24,
   "metadata": {},
   "outputs": [
    {
     "name": "stdout",
     "output_type": "stream",
     "text": [
      "              precision    recall  f1-score   support\n",
      "\n",
      "           0       0.63      1.00      0.77     18018\n",
      "           1       0.00      0.00      0.00     10490\n",
      "\n",
      "    accuracy                           0.63     28508\n",
      "   macro avg       0.32      0.50      0.39     28508\n",
      "weighted avg       0.40      0.63      0.49     28508\n",
      "\n"
     ]
    },
    {
     "name": "stderr",
     "output_type": "stream",
     "text": [
      "c:\\users\\sidu1\\anaconda3\\envs\\msanalytics\\lib\\site-packages\\sklearn\\metrics\\_classification.py:1245: UndefinedMetricWarning: Precision and F-score are ill-defined and being set to 0.0 in labels with no predicted samples. Use `zero_division` parameter to control this behavior.\n",
      "  _warn_prf(average, modifier, msg_start, len(result))\n",
      "c:\\users\\sidu1\\anaconda3\\envs\\msanalytics\\lib\\site-packages\\sklearn\\metrics\\_classification.py:1245: UndefinedMetricWarning: Precision and F-score are ill-defined and being set to 0.0 in labels with no predicted samples. Use `zero_division` parameter to control this behavior.\n",
      "  _warn_prf(average, modifier, msg_start, len(result))\n",
      "c:\\users\\sidu1\\anaconda3\\envs\\msanalytics\\lib\\site-packages\\sklearn\\metrics\\_classification.py:1245: UndefinedMetricWarning: Precision and F-score are ill-defined and being set to 0.0 in labels with no predicted samples. Use `zero_division` parameter to control this behavior.\n",
      "  _warn_prf(average, modifier, msg_start, len(result))\n"
     ]
    }
   ],
   "source": [
    "from sklearn.metrics import classification_report\n",
    "# accuracy measures by classification_report()\n",
    "result = classification_report(y_test,y_pred)\n",
    "\n",
    "# print the result\n",
    "print(result)"
   ]
  },
  {
   "cell_type": "markdown",
   "metadata": {},
   "source": [
    "#### Tabulate the results"
   ]
  },
  {
   "cell_type": "code",
   "execution_count": 25,
   "metadata": {},
   "outputs": [
    {
     "name": "stderr",
     "output_type": "stream",
     "text": [
      "c:\\users\\sidu1\\anaconda3\\envs\\msanalytics\\lib\\site-packages\\sklearn\\metrics\\_classification.py:1245: UndefinedMetricWarning: Precision is ill-defined and being set to 0.0 due to no predicted samples. Use `zero_division` parameter to control this behavior.\n",
      "  _warn_prf(average, modifier, msg_start, len(result))\n"
     ]
    },
    {
     "data": {
      "text/html": [
       "<div>\n",
       "<style scoped>\n",
       "    .dataframe tbody tr th:only-of-type {\n",
       "        vertical-align: middle;\n",
       "    }\n",
       "\n",
       "    .dataframe tbody tr th {\n",
       "        vertical-align: top;\n",
       "    }\n",
       "\n",
       "    .dataframe thead th {\n",
       "        text-align: right;\n",
       "    }\n",
       "</style>\n",
       "<table border=\"1\" class=\"dataframe\">\n",
       "  <thead>\n",
       "    <tr style=\"text-align: right;\">\n",
       "      <th></th>\n",
       "      <th>Model</th>\n",
       "      <th>Precision Score</th>\n",
       "      <th>Recall Score</th>\n",
       "      <th>Accuracy Score</th>\n",
       "      <th>f1-score</th>\n",
       "    </tr>\n",
       "  </thead>\n",
       "  <tbody>\n",
       "    <tr>\n",
       "      <th>0</th>\n",
       "      <td>Naive Bayes</td>\n",
       "      <td>0.0</td>\n",
       "      <td>0.0</td>\n",
       "      <td>0.632033</td>\n",
       "      <td>0.0</td>\n",
       "    </tr>\n",
       "  </tbody>\n",
       "</table>\n",
       "</div>"
      ],
      "text/plain": [
       "         Model  Precision Score  Recall Score  Accuracy Score  f1-score\n",
       "0  Naive Bayes              0.0           0.0        0.632033       0.0"
      ]
     },
     "execution_count": 25,
     "metadata": {},
     "output_type": "execute_result"
    }
   ],
   "source": [
    "from sklearn import metrics\n",
    "\n",
    "cols = ['Model', 'Precision Score', 'Recall Score','Accuracy Score','f1-score']\n",
    "\n",
    "result_tabulation = pd.DataFrame(columns = cols)\n",
    "\n",
    "Naive_bayes = pd.Series({'Model': \"Naive Bayes\",\n",
    "                 'Precision Score': metrics.precision_score(y_test, y_pred),\n",
    "                 'Recall Score': metrics.recall_score(y_test, y_pred),\n",
    "                 'Accuracy Score': metrics.accuracy_score(y_test, y_pred),\n",
    "                  'f1-score':metrics.f1_score(y_test, y_pred)})\n",
    "\n",
    "result_tabulation = result_tabulation.append(Naive_bayes , ignore_index = True)\n",
    "\n",
    "result_tabulation"
   ]
  },
  {
   "cell_type": "code",
   "execution_count": 26,
   "metadata": {},
   "outputs": [],
   "source": [
    "# precision and recall is zero"
   ]
  },
  {
   "cell_type": "markdown",
   "metadata": {},
   "source": [
    "## DictVectorization"
   ]
  },
  {
   "cell_type": "code",
   "execution_count": 27,
   "metadata": {},
   "outputs": [],
   "source": [
    "# will create a function which creates a dictionary for each name containing\n",
    "# first-letter,first2-letters,first3-letters,last-letter,last2-letters,last3-letters"
   ]
  },
  {
   "cell_type": "code",
   "execution_count": 28,
   "metadata": {},
   "outputs": [],
   "source": [
    "# By Analogy most female names ends in 'A' or 'E' or has the sound of 'A'\n",
    "def features(name):\n",
    "    name = name\n",
    "    return {\n",
    "        'first-letter': name[0], # First letter\n",
    "        'first2-letters': name[0:2], # First 2 letters\n",
    "        'first3-letters': name[0:3], # First 3 letters\n",
    "        'last-letter': name[-1:],\n",
    "        'last2-letters': name[-2:],\n",
    "        'last3-letters': name[-3:],\n",
    "    }"
   ]
  },
  {
   "cell_type": "code",
   "execution_count": 29,
   "metadata": {},
   "outputs": [],
   "source": [
    "# Vectorize the features function\n",
    "features = np.vectorize(features)"
   ]
  },
  {
   "cell_type": "code",
   "execution_count": 30,
   "metadata": {},
   "outputs": [],
   "source": [
    "# Extract the features for the dataset\n",
    "\n",
    "df_X = features(df['first_name'])\n",
    "\n",
    "df_y = df['gender']"
   ]
  },
  {
   "cell_type": "code",
   "execution_count": 31,
   "metadata": {},
   "outputs": [],
   "source": [
    "from sklearn.feature_extraction import DictVectorizer"
   ]
  },
  {
   "cell_type": "code",
   "execution_count": 32,
   "metadata": {},
   "outputs": [],
   "source": [
    "# Train Test Split\n",
    "dfX_train, dfX_test, dfy_train, dfy_test = train_test_split(df_X, df_y, test_size=0.3, random_state=0)"
   ]
  },
  {
   "cell_type": "code",
   "execution_count": 33,
   "metadata": {},
   "outputs": [
    {
     "data": {
      "text/plain": [
       "array([{'first-letter': 'M', 'first2-letters': 'Ma', 'first3-letters': 'Mar', 'last-letter': 'e', 'last2-letters': 'ie', 'last3-letters': 'rie'},\n",
       "       {'first-letter': 'D', 'first2-letters': 'Da', 'first3-letters': 'Dak', 'last-letter': 'a', 'last2-letters': 'ia', 'last3-letters': 'ria'},\n",
       "       {'first-letter': 'A', 'first2-letters': 'An', 'first3-letters': 'Ann', 'last-letter': 'e', 'last2-letters': 'ee', 'last3-letters': 'lee'},\n",
       "       ...,\n",
       "       {'first-letter': 'J', 'first2-letters': 'Jo', 'first3-letters': 'Jor', 'last-letter': 'l', 'last2-letters': 'el', 'last3-letters': 'rel'},\n",
       "       {'first-letter': 'J', 'first2-letters': 'Ju', 'first3-letters': 'Jus', 'last-letter': 'n', 'last2-letters': 'an', 'last3-letters': 'ian'},\n",
       "       {'first-letter': 'O', 'first2-letters': 'Ot', 'first3-letters': 'Otw', 'last-letter': 'y', 'last2-letters': 'ay', 'last3-letters': 'way'}],\n",
       "      dtype=object)"
      ]
     },
     "execution_count": 33,
     "metadata": {},
     "output_type": "execute_result"
    }
   ],
   "source": [
    "dfX_train"
   ]
  },
  {
   "cell_type": "code",
   "execution_count": 34,
   "metadata": {},
   "outputs": [
    {
     "data": {
      "text/plain": [
       "<66517x8883 sparse matrix of type '<class 'numpy.float64'>'\n",
       "\twith 399102 stored elements in Compressed Sparse Row format>"
      ]
     },
     "execution_count": 34,
     "metadata": {},
     "output_type": "execute_result"
    }
   ],
   "source": [
    "dv = DictVectorizer()\n",
    "dv.fit_transform(dfX_train)"
   ]
  },
  {
   "cell_type": "markdown",
   "metadata": {},
   "source": [
    "## Random Forest"
   ]
  },
  {
   "cell_type": "code",
   "execution_count": 35,
   "metadata": {},
   "outputs": [
    {
     "data": {
      "text/plain": [
       "RandomForestClassifier(n_estimators=50, random_state=10)"
      ]
     },
     "execution_count": 35,
     "metadata": {},
     "output_type": "execute_result"
    }
   ],
   "source": [
    "from sklearn.ensemble import RandomForestClassifier\n",
    "\n",
    "#intantiate the classifier\n",
    "rf = RandomForestClassifier(n_estimators=50, random_state=10)\n",
    "\n",
    "# fit the regressor with training dataset\n",
    "rf.fit(dv.transform(dfX_train), dfy_train)"
   ]
  },
  {
   "cell_type": "code",
   "execution_count": 36,
   "metadata": {},
   "outputs": [
    {
     "data": {
      "text/plain": [
       "array([1, 0, 1, ..., 0, 1, 0], dtype=int64)"
      ]
     },
     "execution_count": 36,
     "metadata": {},
     "output_type": "execute_result"
    }
   ],
   "source": [
    "# prediction\n",
    "y_pred = rf.predict(dv.transform(dfX_test))\n",
    "y_pred"
   ]
  },
  {
   "cell_type": "markdown",
   "metadata": {},
   "source": [
    "#### Computing Metrices"
   ]
  },
  {
   "cell_type": "code",
   "execution_count": 37,
   "metadata": {},
   "outputs": [
    {
     "data": {
      "image/png": "[encoded data removed]",
      "text/plain": [
       "<Figure size 576x360 with 1 Axes>"
      ]
     },
     "metadata": {
      "needs_background": "light"
     },
     "output_type": "display_data"
    }
   ],
   "source": [
    "cm = confusion_matrix(dfy_test, y_pred)\n",
    "conf_matrix = pd.DataFrame(data=cm,columns=['Predicted:0','Predicted:1'],index=['Actual:0','Actual:1'])\n",
    "plt.figure(figsize = (8,5))\n",
    "sns.heatmap(conf_matrix, annot=True, fmt='d', cmap=\"YlGnBu\", cbar=False)\n",
    "plt.show()"
   ]
  },
  {
   "cell_type": "markdown",
   "metadata": {},
   "source": [
    "#### Classification Report"
   ]
  },
  {
   "cell_type": "code",
   "execution_count": 38,
   "metadata": {},
   "outputs": [
    {
     "name": "stdout",
     "output_type": "stream",
     "text": [
      "              precision    recall  f1-score   support\n",
      "\n",
      "           0       0.90      0.91      0.91     18018\n",
      "           1       0.85      0.83      0.84     10490\n",
      "\n",
      "    accuracy                           0.88     28508\n",
      "   macro avg       0.88      0.87      0.88     28508\n",
      "weighted avg       0.88      0.88      0.88     28508\n",
      "\n"
     ]
    }
   ],
   "source": [
    "result = classification_report(dfy_test,y_pred)\n",
    "print(result)"
   ]
  },
  {
   "cell_type": "code",
   "execution_count": 39,
   "metadata": {},
   "outputs": [
    {
     "data": {
      "text/html": [
       "<div>\n",
       "<style scoped>\n",
       "    .dataframe tbody tr th:only-of-type {\n",
       "        vertical-align: middle;\n",
       "    }\n",
       "\n",
       "    .dataframe tbody tr th {\n",
       "        vertical-align: top;\n",
       "    }\n",
       "\n",
       "    .dataframe thead th {\n",
       "        text-align: right;\n",
       "    }\n",
       "</style>\n",
       "<table border=\"1\" class=\"dataframe\">\n",
       "  <thead>\n",
       "    <tr style=\"text-align: right;\">\n",
       "      <th></th>\n",
       "      <th>Model</th>\n",
       "      <th>Precision Score</th>\n",
       "      <th>Recall Score</th>\n",
       "      <th>Accuracy Score</th>\n",
       "      <th>f1-score</th>\n",
       "    </tr>\n",
       "  </thead>\n",
       "  <tbody>\n",
       "    <tr>\n",
       "      <th>0</th>\n",
       "      <td>Naive Bayes</td>\n",
       "      <td>0.00000</td>\n",
       "      <td>0.000000</td>\n",
       "      <td>0.632033</td>\n",
       "      <td>0.000000</td>\n",
       "    </tr>\n",
       "    <tr>\n",
       "      <th>1</th>\n",
       "      <td>random_forest</td>\n",
       "      <td>0.84982</td>\n",
       "      <td>0.834509</td>\n",
       "      <td>0.884839</td>\n",
       "      <td>0.842095</td>\n",
       "    </tr>\n",
       "  </tbody>\n",
       "</table>\n",
       "</div>"
      ],
      "text/plain": [
       "           Model  Precision Score  Recall Score  Accuracy Score  f1-score\n",
       "0    Naive Bayes          0.00000      0.000000        0.632033  0.000000\n",
       "1  random_forest          0.84982      0.834509        0.884839  0.842095"
      ]
     },
     "execution_count": 39,
     "metadata": {},
     "output_type": "execute_result"
    }
   ],
   "source": [
    "random_forest = pd.Series({'Model': \"random_forest\",\n",
    "                 'Precision Score': metrics.precision_score(dfy_test, y_pred),\n",
    "                 'Recall Score': metrics.recall_score(dfy_test, y_pred),\n",
    "                 'Accuracy Score': metrics.accuracy_score(dfy_test, y_pred),\n",
    "                  'f1-score':metrics.f1_score(dfy_test, y_pred)})\n",
    "\n",
    "result_tabulation = result_tabulation.append(random_forest , ignore_index = True)\n",
    "\n",
    "result_tabulation"
   ]
  },
  {
   "cell_type": "markdown",
   "metadata": {},
   "source": [
    "## OverSampling"
   ]
  },
  {
   "cell_type": "code",
   "execution_count": 40,
   "metadata": {},
   "outputs": [
    {
     "data": {
      "text/plain": [
       "((95025,), (95025,))"
      ]
     },
     "execution_count": 40,
     "metadata": {},
     "output_type": "execute_result"
    }
   ],
   "source": [
    "df_X.shape,df_y.shape"
   ]
  },
  {
   "cell_type": "code",
   "execution_count": 41,
   "metadata": {},
   "outputs": [
    {
     "data": {
      "text/plain": [
       "0    60304\n",
       "1    34721\n",
       "Name: gender, dtype: int64"
      ]
     },
     "execution_count": 41,
     "metadata": {},
     "output_type": "execute_result"
    }
   ],
   "source": [
    "df_y.value_counts()"
   ]
  },
  {
   "cell_type": "code",
   "execution_count": 42,
   "metadata": {},
   "outputs": [],
   "source": [
    "from imblearn.over_sampling import RandomOverSampler\n",
    "\n",
    "\n",
    "random = RandomOverSampler(random_state=0)\n",
    "X_resampled, y_resampled = random.fit_resample(dv.transform(df_X),df_y)"
   ]
  },
  {
   "cell_type": "code",
   "execution_count": 43,
   "metadata": {},
   "outputs": [
    {
     "data": {
      "text/plain": [
       "0    60304\n",
       "1    60304\n",
       "Name: gender, dtype: int64"
      ]
     },
     "execution_count": 43,
     "metadata": {},
     "output_type": "execute_result"
    }
   ],
   "source": [
    "y_resampled.value_counts()"
   ]
  },
  {
   "cell_type": "code",
   "execution_count": 44,
   "metadata": {},
   "outputs": [],
   "source": [
    "# Train Test Split\n",
    "dfX_train, dfX_test, dfy_train, dfy_test = train_test_split(X_resampled, y_resampled, test_size=0.3, random_state=0)"
   ]
  },
  {
   "cell_type": "markdown",
   "metadata": {},
   "source": [
    "## Random Forest after oversampling"
   ]
  },
  {
   "cell_type": "code",
   "execution_count": 88,
   "metadata": {},
   "outputs": [
    {
     "data": {
      "text/plain": [
       "RandomForestClassifier(n_estimators=25, random_state=0)"
      ]
     },
     "execution_count": 88,
     "metadata": {},
     "output_type": "execute_result"
    }
   ],
   "source": [
    "#intantiate the classifier\n",
    "rf1 = RandomForestClassifier(n_estimators=25, random_state=0)\n",
    "\n",
    "# fit the regressor with training dataset\n",
    "rf1.fit(dfX_train, dfy_train)"
   ]
  },
  {
   "cell_type": "code",
   "execution_count": 89,
   "metadata": {},
   "outputs": [
    {
     "data": {
      "text/plain": [
       "array([1, 0, 1, ..., 0, 0, 1], dtype=int64)"
      ]
     },
     "execution_count": 89,
     "metadata": {},
     "output_type": "execute_result"
    }
   ],
   "source": [
    "# prediction\n",
    "y_pred = rf1.predict(dfX_test)\n",
    "y_pred"
   ]
  },
  {
   "cell_type": "markdown",
   "metadata": {},
   "source": [
    "#### Computing Metrices"
   ]
  },
  {
   "cell_type": "code",
   "execution_count": 90,
   "metadata": {},
   "outputs": [
    {
     "data": {
      "image/png": "[encoded data removed]",
      "text/plain": [
       "<Figure size 576x360 with 1 Axes>"
      ]
     },
     "metadata": {
      "needs_background": "light"
     },
     "output_type": "display_data"
    }
   ],
   "source": [
    "cm = confusion_matrix(dfy_test, y_pred)\n",
    "conf_matrix = pd.DataFrame(data=cm,columns=['Predicted:0','Predicted:1'],index=['Actual:0','Actual:1'])\n",
    "plt.figure(figsize = (8,5))\n",
    "sns.heatmap(conf_matrix, annot=True, fmt='d', cmap=\"YlGnBu\", cbar=False)\n",
    "plt.show()"
   ]
  },
  {
   "cell_type": "markdown",
   "metadata": {},
   "source": [
    "#### Calssification Report"
   ]
  },
  {
   "cell_type": "code",
   "execution_count": 91,
   "metadata": {},
   "outputs": [
    {
     "name": "stdout",
     "output_type": "stream",
     "text": [
      "              precision    recall  f1-score   support\n",
      "\n",
      "           0       0.93      0.90      0.91     18126\n",
      "           1       0.90      0.94      0.92     18057\n",
      "\n",
      "    accuracy                           0.92     36183\n",
      "   macro avg       0.92      0.92      0.92     36183\n",
      "weighted avg       0.92      0.92      0.92     36183\n",
      "\n"
     ]
    }
   ],
   "source": [
    "result = classification_report(dfy_test,y_pred)\n",
    "print(result)"
   ]
  },
  {
   "cell_type": "code",
   "execution_count": 92,
   "metadata": {},
   "outputs": [
    {
     "data": {
      "text/html": [
       "<div>\n",
       "<style scoped>\n",
       "    .dataframe tbody tr th:only-of-type {\n",
       "        vertical-align: middle;\n",
       "    }\n",
       "\n",
       "    .dataframe tbody tr th {\n",
       "        vertical-align: top;\n",
       "    }\n",
       "\n",
       "    .dataframe thead th {\n",
       "        text-align: right;\n",
       "    }\n",
       "</style>\n",
       "<table border=\"1\" class=\"dataframe\">\n",
       "  <thead>\n",
       "    <tr style=\"text-align: right;\">\n",
       "      <th></th>\n",
       "      <th>Model</th>\n",
       "      <th>Precision Score</th>\n",
       "      <th>Recall Score</th>\n",
       "      <th>Accuracy Score</th>\n",
       "      <th>f1-score</th>\n",
       "    </tr>\n",
       "  </thead>\n",
       "  <tbody>\n",
       "    <tr>\n",
       "      <th>0</th>\n",
       "      <td>Naive Bayes</td>\n",
       "      <td>0.000000</td>\n",
       "      <td>0.000000</td>\n",
       "      <td>0.632033</td>\n",
       "      <td>0.000000</td>\n",
       "    </tr>\n",
       "    <tr>\n",
       "      <th>1</th>\n",
       "      <td>random_forest</td>\n",
       "      <td>0.849820</td>\n",
       "      <td>0.834509</td>\n",
       "      <td>0.884839</td>\n",
       "      <td>0.842095</td>\n",
       "    </tr>\n",
       "    <tr>\n",
       "      <th>2</th>\n",
       "      <td>Random_Forest_OS</td>\n",
       "      <td>0.900779</td>\n",
       "      <td>0.935150</td>\n",
       "      <td>0.916231</td>\n",
       "      <td>0.917643</td>\n",
       "    </tr>\n",
       "  </tbody>\n",
       "</table>\n",
       "</div>"
      ],
      "text/plain": [
       "              Model  Precision Score  Recall Score  Accuracy Score  f1-score\n",
       "0       Naive Bayes         0.000000      0.000000        0.632033  0.000000\n",
       "1     random_forest         0.849820      0.834509        0.884839  0.842095\n",
       "2  Random_Forest_OS         0.900779      0.935150        0.916231  0.917643"
      ]
     },
     "execution_count": 92,
     "metadata": {},
     "output_type": "execute_result"
    }
   ],
   "source": [
    "Random_Forest_OS = pd.Series({'Model': \"Random_Forest_OS\",\n",
    "                 'Precision Score': metrics.precision_score(dfy_test, y_pred),\n",
    "                 'Recall Score': metrics.recall_score(dfy_test, y_pred),\n",
    "                 'Accuracy Score': metrics.accuracy_score(dfy_test, y_pred),\n",
    "                  'f1-score':metrics.f1_score(dfy_test, y_pred)})\n",
    "\n",
    "result_tabulation = result_tabulation.append(Random_Forest_OS , ignore_index = True)\n",
    "\n",
    "result_tabulation"
   ]
  },
  {
   "cell_type": "code",
   "execution_count": 86,
   "metadata": {},
   "outputs": [],
   "source": [
    "result_tabulation.drop(labels=2, axis=0,inplace = True)"
   ]
  },
  {
   "cell_type": "code",
   "execution_count": 87,
   "metadata": {},
   "outputs": [
    {
     "data": {
      "text/html": [
       "<div>\n",
       "<style scoped>\n",
       "    .dataframe tbody tr th:only-of-type {\n",
       "        vertical-align: middle;\n",
       "    }\n",
       "\n",
       "    .dataframe tbody tr th {\n",
       "        vertical-align: top;\n",
       "    }\n",
       "\n",
       "    .dataframe thead th {\n",
       "        text-align: right;\n",
       "    }\n",
       "</style>\n",
       "<table border=\"1\" class=\"dataframe\">\n",
       "  <thead>\n",
       "    <tr style=\"text-align: right;\">\n",
       "      <th></th>\n",
       "      <th>Model</th>\n",
       "      <th>Precision Score</th>\n",
       "      <th>Recall Score</th>\n",
       "      <th>Accuracy Score</th>\n",
       "      <th>f1-score</th>\n",
       "    </tr>\n",
       "  </thead>\n",
       "  <tbody>\n",
       "    <tr>\n",
       "      <th>0</th>\n",
       "      <td>Naive Bayes</td>\n",
       "      <td>0.00000</td>\n",
       "      <td>0.000000</td>\n",
       "      <td>0.632033</td>\n",
       "      <td>0.000000</td>\n",
       "    </tr>\n",
       "    <tr>\n",
       "      <th>1</th>\n",
       "      <td>random_forest</td>\n",
       "      <td>0.84982</td>\n",
       "      <td>0.834509</td>\n",
       "      <td>0.884839</td>\n",
       "      <td>0.842095</td>\n",
       "    </tr>\n",
       "  </tbody>\n",
       "</table>\n",
       "</div>"
      ],
      "text/plain": [
       "           Model  Precision Score  Recall Score  Accuracy Score  f1-score\n",
       "0    Naive Bayes          0.00000      0.000000        0.632033  0.000000\n",
       "1  random_forest          0.84982      0.834509        0.884839  0.842095"
      ]
     },
     "execution_count": 87,
     "metadata": {},
     "output_type": "execute_result"
    }
   ],
   "source": [
    "result_tabulation"
   ]
  },
  {
   "cell_type": "code",
   "execution_count": 50,
   "metadata": {},
   "outputs": [],
   "source": [
    "# from this we can conclude that random forest after oversampling is the best model"
   ]
  },
  {
   "cell_type": "code",
   "execution_count": 93,
   "metadata": {},
   "outputs": [],
   "source": [
    "# save the model_1 as pickle file\n",
    "\n",
    "import pickle\n",
    "#open a file, where you ant to store the data\n",
    "file = open('gcmodel.pkl', 'wb')\n",
    "\n",
    "# dump information to that file\n",
    "pickle.dump(rf1, file)\n",
    "\n",
    "file.close()"
   ]
  },
  {
   "cell_type": "code",
   "execution_count": 52,
   "metadata": {},
   "outputs": [],
   "source": [
    "file = open('dictvectorizer.pkl','wb')\n",
    "pickle.dump(dv,file)\n",
    "file.close()"
   ]
  },
  {
   "cell_type": "code",
   "execution_count": null,
   "metadata": {},
   "outputs": [],
   "source": []
  }
 ],
 "metadata": {
  "kernelspec": {
   "display_name": "Python 3",
   "language": "python",
   "name": "python3"
  },
  "language_info": {
   "codemirror_mode": {
    "name": "ipython",
    "version": 3
   },
   "file_extension": ".py",
   "mimetype": "text/x-python",
   "name": "python",
   "nbconvert_exporter": "python",
   "pygments_lexer": "ipython3",
   "version": "3.8.3"
  }
 },
 "nbformat": 4,
 "nbformat_minor": 4
}
